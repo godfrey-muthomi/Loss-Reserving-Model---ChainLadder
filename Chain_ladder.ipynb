{
 "cells": [
  {
   "cell_type": "code",
   "execution_count": 1,
   "id": "1b3891b0-344e-44f8-8880-fd2e315a7dc1",
   "metadata": {},
   "outputs": [],
   "source": [
    "import pandas as pd\n",
    "import numpy as np\n",
    "import matplotlib.pyplot as plt\n",
    "import seaborn as sns\n",
    "from sklearn.linear_model import LinearRegression"
   ]
  },
  {
   "cell_type": "code",
   "execution_count": 3,
   "id": "62ae3d4c-2fe8-4b7c-b1a1-be48b7b70fc8",
   "metadata": {},
   "outputs": [
    {
     "data": {
      "text/html": [
       "<div>\n",
       "<style scoped>\n",
       "    .dataframe tbody tr th:only-of-type {\n",
       "        vertical-align: middle;\n",
       "    }\n",
       "\n",
       "    .dataframe tbody tr th {\n",
       "        vertical-align: top;\n",
       "    }\n",
       "\n",
       "    .dataframe thead th {\n",
       "        text-align: right;\n",
       "    }\n",
       "</style>\n",
       "<table border=\"1\" class=\"dataframe\">\n",
       "  <thead>\n",
       "    <tr style=\"text-align: right;\">\n",
       "      <th></th>\n",
       "      <th>AY</th>\n",
       "      <th>0</th>\n",
       "      <th>1</th>\n",
       "      <th>2</th>\n",
       "      <th>3</th>\n",
       "      <th>4</th>\n",
       "    </tr>\n",
       "  </thead>\n",
       "  <tbody>\n",
       "    <tr>\n",
       "      <th>0</th>\n",
       "      <td>2014</td>\n",
       "      <td>100</td>\n",
       "      <td>150.0</td>\n",
       "      <td>180.0</td>\n",
       "      <td>200.0</td>\n",
       "      <td>225.0</td>\n",
       "    </tr>\n",
       "    <tr>\n",
       "      <th>1</th>\n",
       "      <td>2015</td>\n",
       "      <td>112</td>\n",
       "      <td>173.0</td>\n",
       "      <td>215.0</td>\n",
       "      <td>245.0</td>\n",
       "      <td>NaN</td>\n",
       "    </tr>\n",
       "    <tr>\n",
       "      <th>2</th>\n",
       "      <td>2016</td>\n",
       "      <td>118</td>\n",
       "      <td>185.0</td>\n",
       "      <td>233.0</td>\n",
       "      <td>NaN</td>\n",
       "      <td>NaN</td>\n",
       "    </tr>\n",
       "    <tr>\n",
       "      <th>3</th>\n",
       "      <td>2017</td>\n",
       "      <td>122</td>\n",
       "      <td>195.0</td>\n",
       "      <td>NaN</td>\n",
       "      <td>NaN</td>\n",
       "      <td>NaN</td>\n",
       "    </tr>\n",
       "    <tr>\n",
       "      <th>4</th>\n",
       "      <td>2018</td>\n",
       "      <td>125</td>\n",
       "      <td>NaN</td>\n",
       "      <td>NaN</td>\n",
       "      <td>NaN</td>\n",
       "      <td>NaN</td>\n",
       "    </tr>\n",
       "  </tbody>\n",
       "</table>\n",
       "</div>"
      ],
      "text/plain": [
       "     AY    0      1      2      3      4\n",
       "0  2014  100  150.0  180.0  200.0  225.0\n",
       "1  2015  112  173.0  215.0  245.0    NaN\n",
       "2  2016  118  185.0  233.0    NaN    NaN\n",
       "3  2017  122  195.0    NaN    NaN    NaN\n",
       "4  2018  125    NaN    NaN    NaN    NaN"
      ]
     },
     "execution_count": 3,
     "metadata": {},
     "output_type": "execute_result"
    }
   ],
   "source": [
    "# Reading the CSV file\n",
    "df = pd.read_csv(r\"C:\\Users\\muthomig\\Downloads\\ibnr.csv\")\n",
    "df"
   ]
  },
  {
   "cell_type": "code",
   "execution_count": 5,
   "id": "78c697e0-f88b-4da9-a1d9-3fd70644b74c",
   "metadata": {
    "scrolled": true
   },
   "outputs": [
    {
     "data": {
      "text/html": [
       "<div>\n",
       "<style scoped>\n",
       "    .dataframe tbody tr th:only-of-type {\n",
       "        vertical-align: middle;\n",
       "    }\n",
       "\n",
       "    .dataframe tbody tr th {\n",
       "        vertical-align: top;\n",
       "    }\n",
       "\n",
       "    .dataframe thead th {\n",
       "        text-align: right;\n",
       "    }\n",
       "</style>\n",
       "<table border=\"1\" class=\"dataframe\">\n",
       "  <thead>\n",
       "    <tr style=\"text-align: right;\">\n",
       "      <th></th>\n",
       "      <th>0</th>\n",
       "      <th>1</th>\n",
       "      <th>2</th>\n",
       "      <th>3</th>\n",
       "      <th>4</th>\n",
       "    </tr>\n",
       "    <tr>\n",
       "      <th>AY</th>\n",
       "      <th></th>\n",
       "      <th></th>\n",
       "      <th></th>\n",
       "      <th></th>\n",
       "      <th></th>\n",
       "    </tr>\n",
       "  </thead>\n",
       "  <tbody>\n",
       "    <tr>\n",
       "      <th>2014</th>\n",
       "      <td>100</td>\n",
       "      <td>150.0</td>\n",
       "      <td>180.0</td>\n",
       "      <td>200.0</td>\n",
       "      <td>225.0</td>\n",
       "    </tr>\n",
       "    <tr>\n",
       "      <th>2015</th>\n",
       "      <td>112</td>\n",
       "      <td>173.0</td>\n",
       "      <td>215.0</td>\n",
       "      <td>245.0</td>\n",
       "      <td>NaN</td>\n",
       "    </tr>\n",
       "    <tr>\n",
       "      <th>2016</th>\n",
       "      <td>118</td>\n",
       "      <td>185.0</td>\n",
       "      <td>233.0</td>\n",
       "      <td>NaN</td>\n",
       "      <td>NaN</td>\n",
       "    </tr>\n",
       "    <tr>\n",
       "      <th>2017</th>\n",
       "      <td>122</td>\n",
       "      <td>195.0</td>\n",
       "      <td>NaN</td>\n",
       "      <td>NaN</td>\n",
       "      <td>NaN</td>\n",
       "    </tr>\n",
       "    <tr>\n",
       "      <th>2018</th>\n",
       "      <td>125</td>\n",
       "      <td>NaN</td>\n",
       "      <td>NaN</td>\n",
       "      <td>NaN</td>\n",
       "      <td>NaN</td>\n",
       "    </tr>\n",
       "  </tbody>\n",
       "</table>\n",
       "</div>"
      ],
      "text/plain": [
       "        0      1      2      3      4\n",
       "AY                                   \n",
       "2014  100  150.0  180.0  200.0  225.0\n",
       "2015  112  173.0  215.0  245.0    NaN\n",
       "2016  118  185.0  233.0    NaN    NaN\n",
       "2017  122  195.0    NaN    NaN    NaN\n",
       "2018  125    NaN    NaN    NaN    NaN"
      ]
     },
     "execution_count": 5,
     "metadata": {},
     "output_type": "execute_result"
    }
   ],
   "source": [
    "df.set_index(df['AY'], inplace=True)\n",
    "del df['AY']\n",
    "df"
   ]
  },
  {
   "cell_type": "code",
   "execution_count": 7,
   "id": "aa97f7a8-be48-475f-a3ac-6a5de8a6ff91",
   "metadata": {},
   "outputs": [
    {
     "data": {
      "text/plain": [
       "array([1.55530973, 1.23622047, 1.12658228, 1.125     ])"
      ]
     },
     "execution_count": 7,
     "metadata": {},
     "output_type": "execute_result"
    }
   ],
   "source": [
    "factors = []\n",
    "for col in df.columns[:-1]:\n",
    "    factors.append(df[str(int(col)+1)].sum() / df[col][:-int(col)-1].sum())\n",
    "factors = np.array(factors)\n",
    "factors"
   ]
  },
  {
   "cell_type": "code",
   "execution_count": 12,
   "id": "261525ea-7f20-485b-b1cd-b9775e7e8941",
   "metadata": {},
   "outputs": [
    {
     "data": {
      "text/plain": [
       "array([2.43684698, 1.56679209, 1.26740506, 1.125     ])"
      ]
     },
     "execution_count": 12,
     "metadata": {},
     "output_type": "execute_result"
    }
   ],
   "source": [
    "cum_factors = np.cumprod(factors[::-1])[::-1]\n",
    "cum_factors"
   ]
  },
  {
   "cell_type": "code",
   "execution_count": 24,
   "id": "2c0e69e3-7436-465a-98f3-e05cfe812fa4",
   "metadata": {},
   "outputs": [
    {
     "data": {
      "text/plain": [
       "array([2.43684698, 1.56679209, 1.26740506, 1.125     , 1.        ])"
      ]
     },
     "execution_count": 24,
     "metadata": {},
     "output_type": "execute_result"
    }
   ],
   "source": [
    "# Append the value 1\n",
    "cum_factors = np.append(cum_factors, 1)\n",
    "\n",
    "# Print the updated array\n",
    "cum_factors"
   ]
  },
  {
   "cell_type": "code",
   "execution_count": 38,
   "id": "d56787d6-e2b2-401b-b288-6aa6bd4c065b",
   "metadata": {},
   "outputs": [
    {
     "name": "stdout",
     "output_type": "stream",
     "text": [
      "[225.0, 245.0, 233.0, 195.0, 125.0]\n"
     ]
    }
   ],
   "source": [
    "# \n",
    "Incurred = []\n",
    "\n",
    "# Loop through each row in the DataFrame\n",
    "for i, row in df.iterrows():\n",
    "    # Get the last non-NaN value from the row\n",
    "    last_value = row.dropna().iloc[-1]  # Get the last valid entry\n",
    "    Incurred.append(last_value)  # Add it to the result list\n",
    "\n",
    "# Display the result\n",
    "print(Incurred)"
   ]
  },
  {
   "cell_type": "code",
   "execution_count": 44,
   "id": "8573554a-58ed-4471-bdba-b30aab520157",
   "metadata": {},
   "outputs": [
    {
     "data": {
      "text/plain": [
       "[125.0, 195.0, 233.0, 245.0, 225.0]"
      ]
     },
     "execution_count": 44,
     "metadata": {},
     "output_type": "execute_result"
    }
   ],
   "source": [
    "# Reverse the Incurred array so that the highest CDF matches with the lowest Incurred\n",
    "Incurred_loss = Incurred[::-1]\n",
    "Incurred_loss"
   ]
  },
  {
   "cell_type": "code",
   "execution_count": 52,
   "id": "3400404a-7605-4363-b5dc-205d8e86fced",
   "metadata": {},
   "outputs": [
    {
     "data": {
      "text/html": [
       "<div>\n",
       "<style scoped>\n",
       "    .dataframe tbody tr th:only-of-type {\n",
       "        vertical-align: middle;\n",
       "    }\n",
       "\n",
       "    .dataframe tbody tr th {\n",
       "        vertical-align: top;\n",
       "    }\n",
       "\n",
       "    .dataframe thead th {\n",
       "        text-align: right;\n",
       "    }\n",
       "</style>\n",
       "<table border=\"1\" class=\"dataframe\">\n",
       "  <thead>\n",
       "    <tr style=\"text-align: right;\">\n",
       "      <th></th>\n",
       "      <th>CDFs</th>\n",
       "      <th>Incurred</th>\n",
       "      <th>Ultimate</th>\n",
       "    </tr>\n",
       "  </thead>\n",
       "  <tbody>\n",
       "    <tr>\n",
       "      <th>0</th>\n",
       "      <td>2.436847</td>\n",
       "      <td>125.0</td>\n",
       "      <td>304.605873</td>\n",
       "    </tr>\n",
       "    <tr>\n",
       "      <th>1</th>\n",
       "      <td>1.566792</td>\n",
       "      <td>195.0</td>\n",
       "      <td>305.524457</td>\n",
       "    </tr>\n",
       "    <tr>\n",
       "      <th>2</th>\n",
       "      <td>1.267405</td>\n",
       "      <td>233.0</td>\n",
       "      <td>295.305380</td>\n",
       "    </tr>\n",
       "    <tr>\n",
       "      <th>3</th>\n",
       "      <td>1.125000</td>\n",
       "      <td>245.0</td>\n",
       "      <td>275.625000</td>\n",
       "    </tr>\n",
       "    <tr>\n",
       "      <th>4</th>\n",
       "      <td>1.000000</td>\n",
       "      <td>225.0</td>\n",
       "      <td>225.000000</td>\n",
       "    </tr>\n",
       "  </tbody>\n",
       "</table>\n",
       "</div>"
      ],
      "text/plain": [
       "       CDFs  Incurred    Ultimate\n",
       "0  2.436847     125.0  304.605873\n",
       "1  1.566792     195.0  305.524457\n",
       "2  1.267405     233.0  295.305380\n",
       "3  1.125000     245.0  275.625000\n",
       "4  1.000000     225.0  225.000000"
      ]
     },
     "execution_count": 52,
     "metadata": {},
     "output_type": "execute_result"
    }
   ],
   "source": [
    "# Calculate Ultimate values by multiplying CDFs with Incurred loss\n",
    "Ultimate = cum_factors * Incurred_loss\n",
    "\n",
    "# Create a DataFrame with the required columns\n",
    "df = pd.DataFrame({\n",
    "    'CDFs': cum_factors,\n",
    "    'Incurred': Incurred_loss,\n",
    "    'Ultimate': Ultimate\n",
    "})\n",
    "df"
   ]
  },
  {
   "cell_type": "code",
   "execution_count": 58,
   "id": "902a5c07-617d-42cc-bde3-eef267869574",
   "metadata": {},
   "outputs": [
    {
     "data": {
      "text/html": [
       "<div>\n",
       "<style scoped>\n",
       "    .dataframe tbody tr th:only-of-type {\n",
       "        vertical-align: middle;\n",
       "    }\n",
       "\n",
       "    .dataframe tbody tr th {\n",
       "        vertical-align: top;\n",
       "    }\n",
       "\n",
       "    .dataframe thead th {\n",
       "        text-align: right;\n",
       "    }\n",
       "</style>\n",
       "<table border=\"1\" class=\"dataframe\">\n",
       "  <thead>\n",
       "    <tr style=\"text-align: right;\">\n",
       "      <th></th>\n",
       "      <th>CDFs</th>\n",
       "      <th>Incurred</th>\n",
       "      <th>Ultimate</th>\n",
       "      <th>IBNR</th>\n",
       "    </tr>\n",
       "  </thead>\n",
       "  <tbody>\n",
       "    <tr>\n",
       "      <th>0</th>\n",
       "      <td>2.436847</td>\n",
       "      <td>125.0</td>\n",
       "      <td>304.605873</td>\n",
       "      <td>179.605873</td>\n",
       "    </tr>\n",
       "    <tr>\n",
       "      <th>1</th>\n",
       "      <td>1.566792</td>\n",
       "      <td>195.0</td>\n",
       "      <td>305.524457</td>\n",
       "      <td>110.524457</td>\n",
       "    </tr>\n",
       "    <tr>\n",
       "      <th>2</th>\n",
       "      <td>1.267405</td>\n",
       "      <td>233.0</td>\n",
       "      <td>295.305380</td>\n",
       "      <td>62.305380</td>\n",
       "    </tr>\n",
       "    <tr>\n",
       "      <th>3</th>\n",
       "      <td>1.125000</td>\n",
       "      <td>245.0</td>\n",
       "      <td>275.625000</td>\n",
       "      <td>30.625000</td>\n",
       "    </tr>\n",
       "    <tr>\n",
       "      <th>4</th>\n",
       "      <td>1.000000</td>\n",
       "      <td>225.0</td>\n",
       "      <td>225.000000</td>\n",
       "      <td>0.000000</td>\n",
       "    </tr>\n",
       "  </tbody>\n",
       "</table>\n",
       "</div>"
      ],
      "text/plain": [
       "       CDFs  Incurred    Ultimate        IBNR\n",
       "0  2.436847     125.0  304.605873  179.605873\n",
       "1  1.566792     195.0  305.524457  110.524457\n",
       "2  1.267405     233.0  295.305380   62.305380\n",
       "3  1.125000     245.0  275.625000   30.625000\n",
       "4  1.000000     225.0  225.000000    0.000000"
      ]
     },
     "execution_count": 58,
     "metadata": {},
     "output_type": "execute_result"
    }
   ],
   "source": [
    "df['IBNR'] = df['Ultimate'].astype(float) - df['Incurred'].astype(float)\n",
    "df"
   ]
  },
  {
   "cell_type": "code",
   "execution_count": 60,
   "id": "74499b91-e53b-4eda-bd9c-5ab7e3920a4e",
   "metadata": {},
   "outputs": [
    {
     "name": "stdout",
     "output_type": "stream",
     "text": [
      "Total IBNR: 383.0607094762064\n"
     ]
    }
   ],
   "source": [
    "total_ibnr = df['IBNR'].sum()\n",
    "\n",
    "# Display the total IBNR\n",
    "print(\"Total IBNR:\", total_ibnr)"
   ]
  }
 ],
 "metadata": {
  "kernelspec": {
   "display_name": "Python 3 (ipykernel)",
   "language": "python",
   "name": "python3"
  },
  "language_info": {
   "codemirror_mode": {
    "name": "ipython",
    "version": 3
   },
   "file_extension": ".py",
   "mimetype": "text/x-python",
   "name": "python",
   "nbconvert_exporter": "python",
   "pygments_lexer": "ipython3",
   "version": "3.12.4"
  }
 },
 "nbformat": 4,
 "nbformat_minor": 5
}
