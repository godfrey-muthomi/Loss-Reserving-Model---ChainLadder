{
 "cells": [
  {
   "cell_type": "markdown",
   "id": "bb781563-8d3a-4674-a4a5-640e22f2176a",
   "metadata": {},
   "source": [
    "# Chain Ladder Analysis for Claims Reserving"
   ]
  },
  {
   "cell_type": "markdown",
   "id": "842a9add-7de5-4e3c-aaf0-a737701a48af",
   "metadata": {},
   "source": [
    "## Introduction"
   ]
  },
  {
   "cell_type": "markdown",
   "id": "8aeb5fde-a657-4621-9df2-adcdf9136eff",
   "metadata": {},
   "source": [
    "In this notebook, I'll be performing a Chain Ladder analysis to predict insurance claims and calculate reserves, specifically focusing on IBNR (Incurred But Not Reported) claims."
   ]
  },
  {
   "cell_type": "markdown",
   "id": "44bfbff5-ae0c-4cf2-a738-328a19534702",
   "metadata": {},
   "source": [
    "## Set Up Our Environment"
   ]
  },
  {
   "cell_type": "markdown",
   "id": "e57ad760-e9fa-4385-a10b-0f2f5748da5c",
   "metadata": {},
   "source": [
    "Loading all of the necessary libraries for this project."
   ]
  },
  {
   "cell_type": "code",
   "execution_count": 1,
   "id": "1b3891b0-344e-44f8-8880-fd2e315a7dc1",
   "metadata": {},
   "outputs": [],
   "source": [
    "import pandas as pd\n",
    "import numpy as np\n",
    "import matplotlib.pyplot as plt\n",
    "import seaborn as sns\n",
    "from sklearn.linear_model import LinearRegression"
   ]
  },
  {
   "cell_type": "markdown",
   "id": "45080948-19f8-48ae-9a7e-806bb56c9ef1",
   "metadata": {},
   "source": [
    "## Import the Data"
   ]
  },
  {
   "cell_type": "markdown",
   "id": "84b809a4-1018-4ac4-bdd3-b8dc3f4ed425",
   "metadata": {},
   "source": [
    "Import the data contained in a csv file into a pandas dataframe."
   ]
  },
  {
   "cell_type": "code",
   "execution_count": 84,
   "id": "62ae3d4c-2fe8-4b7c-b1a1-be48b7b70fc8",
   "metadata": {},
   "outputs": [
    {
     "data": {
      "text/html": [
       "<div>\n",
       "<style scoped>\n",
       "    .dataframe tbody tr th:only-of-type {\n",
       "        vertical-align: middle;\n",
       "    }\n",
       "\n",
       "    .dataframe tbody tr th {\n",
       "        vertical-align: top;\n",
       "    }\n",
       "\n",
       "    .dataframe thead th {\n",
       "        text-align: right;\n",
       "    }\n",
       "</style>\n",
       "<table border=\"1\" class=\"dataframe\">\n",
       "  <thead>\n",
       "    <tr style=\"text-align: right;\">\n",
       "      <th></th>\n",
       "      <th>AY</th>\n",
       "      <th>0</th>\n",
       "      <th>1</th>\n",
       "      <th>2</th>\n",
       "      <th>3</th>\n",
       "      <th>4</th>\n",
       "    </tr>\n",
       "  </thead>\n",
       "  <tbody>\n",
       "    <tr>\n",
       "      <th>0</th>\n",
       "      <td>2014</td>\n",
       "      <td>100</td>\n",
       "      <td>150.0</td>\n",
       "      <td>180.0</td>\n",
       "      <td>200.0</td>\n",
       "      <td>225.0</td>\n",
       "    </tr>\n",
       "    <tr>\n",
       "      <th>1</th>\n",
       "      <td>2015</td>\n",
       "      <td>112</td>\n",
       "      <td>173.0</td>\n",
       "      <td>215.0</td>\n",
       "      <td>245.0</td>\n",
       "      <td>NaN</td>\n",
       "    </tr>\n",
       "    <tr>\n",
       "      <th>2</th>\n",
       "      <td>2016</td>\n",
       "      <td>118</td>\n",
       "      <td>185.0</td>\n",
       "      <td>233.0</td>\n",
       "      <td>NaN</td>\n",
       "      <td>NaN</td>\n",
       "    </tr>\n",
       "    <tr>\n",
       "      <th>3</th>\n",
       "      <td>2017</td>\n",
       "      <td>122</td>\n",
       "      <td>195.0</td>\n",
       "      <td>NaN</td>\n",
       "      <td>NaN</td>\n",
       "      <td>NaN</td>\n",
       "    </tr>\n",
       "    <tr>\n",
       "      <th>4</th>\n",
       "      <td>2018</td>\n",
       "      <td>125</td>\n",
       "      <td>NaN</td>\n",
       "      <td>NaN</td>\n",
       "      <td>NaN</td>\n",
       "      <td>NaN</td>\n",
       "    </tr>\n",
       "  </tbody>\n",
       "</table>\n",
       "</div>"
      ],
      "text/plain": [
       "     AY    0      1      2      3      4\n",
       "0  2014  100  150.0  180.0  200.0  225.0\n",
       "1  2015  112  173.0  215.0  245.0    NaN\n",
       "2  2016  118  185.0  233.0    NaN    NaN\n",
       "3  2017  122  195.0    NaN    NaN    NaN\n",
       "4  2018  125    NaN    NaN    NaN    NaN"
      ]
     },
     "execution_count": 84,
     "metadata": {},
     "output_type": "execute_result"
    }
   ],
   "source": [
    "# Reading the CSV file\n",
    "df = pd.read_csv(r\"C:\\Users\\muthomig\\Downloads\\ibnr.csv\")\n",
    "df"
   ]
  },
  {
   "cell_type": "markdown",
   "id": "15bba334-b601-437d-a543-284b66d432f1",
   "metadata": {},
   "source": [
    "## Set AY- Accident Year as the index"
   ]
  },
  {
   "cell_type": "markdown",
   "id": "540cfabd-6d2f-4d6a-9c85-e260e1955e4d",
   "metadata": {},
   "source": [
    "Set the accident year (AY) as the index of the DataFrame for easier data manipulation and analysis. Additionally, I remove the AY column from the DataFrame, as it's no longer needed after being set as the index."
   ]
  },
  {
   "cell_type": "code",
   "execution_count": 87,
   "id": "78c697e0-f88b-4da9-a1d9-3fd70644b74c",
   "metadata": {
    "scrolled": true
   },
   "outputs": [
    {
     "data": {
      "text/html": [
       "<div>\n",
       "<style scoped>\n",
       "    .dataframe tbody tr th:only-of-type {\n",
       "        vertical-align: middle;\n",
       "    }\n",
       "\n",
       "    .dataframe tbody tr th {\n",
       "        vertical-align: top;\n",
       "    }\n",
       "\n",
       "    .dataframe thead th {\n",
       "        text-align: right;\n",
       "    }\n",
       "</style>\n",
       "<table border=\"1\" class=\"dataframe\">\n",
       "  <thead>\n",
       "    <tr style=\"text-align: right;\">\n",
       "      <th></th>\n",
       "      <th>0</th>\n",
       "      <th>1</th>\n",
       "      <th>2</th>\n",
       "      <th>3</th>\n",
       "      <th>4</th>\n",
       "    </tr>\n",
       "    <tr>\n",
       "      <th>AY</th>\n",
       "      <th></th>\n",
       "      <th></th>\n",
       "      <th></th>\n",
       "      <th></th>\n",
       "      <th></th>\n",
       "    </tr>\n",
       "  </thead>\n",
       "  <tbody>\n",
       "    <tr>\n",
       "      <th>2014</th>\n",
       "      <td>100</td>\n",
       "      <td>150.0</td>\n",
       "      <td>180.0</td>\n",
       "      <td>200.0</td>\n",
       "      <td>225.0</td>\n",
       "    </tr>\n",
       "    <tr>\n",
       "      <th>2015</th>\n",
       "      <td>112</td>\n",
       "      <td>173.0</td>\n",
       "      <td>215.0</td>\n",
       "      <td>245.0</td>\n",
       "      <td>NaN</td>\n",
       "    </tr>\n",
       "    <tr>\n",
       "      <th>2016</th>\n",
       "      <td>118</td>\n",
       "      <td>185.0</td>\n",
       "      <td>233.0</td>\n",
       "      <td>NaN</td>\n",
       "      <td>NaN</td>\n",
       "    </tr>\n",
       "    <tr>\n",
       "      <th>2017</th>\n",
       "      <td>122</td>\n",
       "      <td>195.0</td>\n",
       "      <td>NaN</td>\n",
       "      <td>NaN</td>\n",
       "      <td>NaN</td>\n",
       "    </tr>\n",
       "    <tr>\n",
       "      <th>2018</th>\n",
       "      <td>125</td>\n",
       "      <td>NaN</td>\n",
       "      <td>NaN</td>\n",
       "      <td>NaN</td>\n",
       "      <td>NaN</td>\n",
       "    </tr>\n",
       "  </tbody>\n",
       "</table>\n",
       "</div>"
      ],
      "text/plain": [
       "        0      1      2      3      4\n",
       "AY                                   \n",
       "2014  100  150.0  180.0  200.0  225.0\n",
       "2015  112  173.0  215.0  245.0    NaN\n",
       "2016  118  185.0  233.0    NaN    NaN\n",
       "2017  122  195.0    NaN    NaN    NaN\n",
       "2018  125    NaN    NaN    NaN    NaN"
      ]
     },
     "execution_count": 87,
     "metadata": {},
     "output_type": "execute_result"
    }
   ],
   "source": [
    "df.set_index(df['AY'], inplace=True)\n",
    "del df['AY']\n",
    "df"
   ]
  },
  {
   "cell_type": "markdown",
   "id": "d21255ef-727b-4452-a517-a1755ed7981a",
   "metadata": {},
   "source": [
    "## Calculate Chain Ladder Development Factors"
   ]
  },
  {
   "cell_type": "markdown",
   "id": "64fc53f7-20cd-4a90-b595-0e7ddf254414",
   "metadata": {},
   "source": [
    "Calculate the development factors for each period in the dataset. The development factors indicate how much claims tend to grow from one period to the next."
   ]
  },
  {
   "cell_type": "code",
   "execution_count": 90,
   "id": "aa97f7a8-be48-475f-a3ac-6a5de8a6ff91",
   "metadata": {},
   "outputs": [
    {
     "data": {
      "text/plain": [
       "array([1.55530973, 1.23622047, 1.12658228, 1.125     ])"
      ]
     },
     "execution_count": 90,
     "metadata": {},
     "output_type": "execute_result"
    }
   ],
   "source": [
    "factors = []\n",
    "for col in df.columns[:-1]:\n",
    "    factors.append(df[str(int(col)+1)].sum() / df[col][:-int(col)-1].sum())\n",
    "factors = np.array(factors)\n",
    "factors"
   ]
  },
  {
   "cell_type": "markdown",
   "id": "d90f8841-5a20-4643-8b07-185af36db54f",
   "metadata": {},
   "source": [
    "## Calculate the cumulative development factors (CDFs)"
   ]
  },
  {
   "cell_type": "markdown",
   "id": "3146a6e7-f5cc-4aa0-9e97-554225fc6072",
   "metadata": {},
   "source": [
    "The CDFs indicate how much claims accumulate over time, providing a more comprehensive view of the overall claims development."
   ]
  },
  {
   "cell_type": "code",
   "execution_count": 108,
   "id": "261525ea-7f20-485b-b1cd-b9775e7e8941",
   "metadata": {},
   "outputs": [
    {
     "data": {
      "text/plain": [
       "array([2.43684698, 1.56679209, 1.26740506, 1.125     ])"
      ]
     },
     "execution_count": 108,
     "metadata": {},
     "output_type": "execute_result"
    }
   ],
   "source": [
    "cum_factors = np.cumprod(factors[::-1])[::-1]\n",
    "cum_factors"
   ]
  },
  {
   "cell_type": "markdown",
   "id": "dfb3d9f7-9fcf-4a78-b4ef-8f3c215de311",
   "metadata": {},
   "source": [
    "## Appending the Final Cumulative Factor"
   ]
  },
  {
   "cell_type": "markdown",
   "id": "f0ae285f-085d-44af-ba86-8f63f2a7ec31",
   "metadata": {},
   "source": [
    "Append the value 1 to the cumulative development factors (CDFs) array. This is done because, in the final development period, the cumulative factor is always 1 — indicating that no further development is expected."
   ]
  },
  {
   "cell_type": "code",
   "execution_count": 112,
   "id": "2c0e69e3-7436-465a-98f3-e05cfe812fa4",
   "metadata": {},
   "outputs": [
    {
     "data": {
      "text/plain": [
       "array([2.43684698, 1.56679209, 1.26740506, 1.125     , 1.        ])"
      ]
     },
     "execution_count": 112,
     "metadata": {},
     "output_type": "execute_result"
    }
   ],
   "source": [
    "# Append the value 1\n",
    "cum_factors = np.append(cum_factors, 1)\n",
    "\n",
    "# Print the updated array\n",
    "cum_factors"
   ]
  },
  {
   "cell_type": "markdown",
   "id": "11c8697c-4c58-44cf-ad1a-2bc3cffd50ad",
   "metadata": {},
   "source": [
    "## Extracting the Last Non-NaN Value for Each Row (Incurred Claims)"
   ]
  },
  {
   "cell_type": "markdown",
   "id": "5c1159b0-409e-48f4-a1ae-88b2f1cc549c",
   "metadata": {},
   "source": [
    "loop through each row of the DataFrame df to extract the last non-NaN value in each row. This value represents the latest incurred claim amount for that accident year (AY), which will be used to estimate the ultimate claim."
   ]
  },
  {
   "cell_type": "code",
   "execution_count": 116,
   "id": "d56787d6-e2b2-401b-b288-6aa6bd4c065b",
   "metadata": {},
   "outputs": [
    {
     "name": "stdout",
     "output_type": "stream",
     "text": [
      "[225.0, 245.0, 233.0, 195.0, 125.0]\n"
     ]
    }
   ],
   "source": [
    "# \n",
    "Incurred = []\n",
    "\n",
    "# Loop through each row in the DataFrame\n",
    "for i, row in df.iterrows():\n",
    "    # Get the last non-NaN value from the row\n",
    "    last_value = row.dropna().iloc[-1]  # Get the last valid entry\n",
    "    Incurred.append(last_value)  # Add it to the result list\n",
    "\n",
    "# Display the result\n",
    "print(Incurred)"
   ]
  },
  {
   "cell_type": "markdown",
   "id": "ed384e39-2a6f-456a-8a04-9cc1c63f10c0",
   "metadata": {},
   "source": [
    "## Reversing the Incurred Claims Array"
   ]
  },
  {
   "cell_type": "markdown",
   "id": "4aef9139-36c9-4934-832f-19e456ed26d4",
   "metadata": {},
   "source": [
    "Reverse the Incurred array to ensure that the highest cumulative development factor (CDF) matches with the lowest incurred claim.reverse the Incurred array to ensure that the highest cumulative development factor (CDF) matches with the lowest incurred claim."
   ]
  },
  {
   "cell_type": "code",
   "execution_count": 120,
   "id": "8573554a-58ed-4471-bdba-b30aab520157",
   "metadata": {},
   "outputs": [
    {
     "data": {
      "text/plain": [
       "[125.0, 195.0, 233.0, 245.0, 225.0]"
      ]
     },
     "execution_count": 120,
     "metadata": {},
     "output_type": "execute_result"
    }
   ],
   "source": [
    "# Reverse the Incurred array so that the highest CDF matches with the lowest Incurred\n",
    "Incurred_loss = Incurred[::-1]\n",
    "Incurred_loss"
   ]
  },
  {
   "cell_type": "markdown",
   "id": "ede1e692-f472-4a19-9319-4c3810f2d948",
   "metadata": {},
   "source": [
    "## Calculating Ultimate Claims and Creating a DataFrame"
   ]
  },
  {
   "cell_type": "markdown",
   "id": "c9fc62fa-2aa4-4116-8de8-f9eff7b665df",
   "metadata": {},
   "source": [
    "Calculate the ultimate claim amounts by multiplying the cumulative development factors (CDFs) with the reversed incurred claims (Incurred_loss). The ultimate values represent the total expected claims for each accident year, once all claims have been fully developed."
   ]
  },
  {
   "cell_type": "code",
   "execution_count": 124,
   "id": "3400404a-7605-4363-b5dc-205d8e86fced",
   "metadata": {},
   "outputs": [
    {
     "data": {
      "text/html": [
       "<div>\n",
       "<style scoped>\n",
       "    .dataframe tbody tr th:only-of-type {\n",
       "        vertical-align: middle;\n",
       "    }\n",
       "\n",
       "    .dataframe tbody tr th {\n",
       "        vertical-align: top;\n",
       "    }\n",
       "\n",
       "    .dataframe thead th {\n",
       "        text-align: right;\n",
       "    }\n",
       "</style>\n",
       "<table border=\"1\" class=\"dataframe\">\n",
       "  <thead>\n",
       "    <tr style=\"text-align: right;\">\n",
       "      <th></th>\n",
       "      <th>CDFs</th>\n",
       "      <th>Incurred</th>\n",
       "      <th>Ultimate</th>\n",
       "    </tr>\n",
       "  </thead>\n",
       "  <tbody>\n",
       "    <tr>\n",
       "      <th>0</th>\n",
       "      <td>2.436847</td>\n",
       "      <td>125.0</td>\n",
       "      <td>304.605873</td>\n",
       "    </tr>\n",
       "    <tr>\n",
       "      <th>1</th>\n",
       "      <td>1.566792</td>\n",
       "      <td>195.0</td>\n",
       "      <td>305.524457</td>\n",
       "    </tr>\n",
       "    <tr>\n",
       "      <th>2</th>\n",
       "      <td>1.267405</td>\n",
       "      <td>233.0</td>\n",
       "      <td>295.305380</td>\n",
       "    </tr>\n",
       "    <tr>\n",
       "      <th>3</th>\n",
       "      <td>1.125000</td>\n",
       "      <td>245.0</td>\n",
       "      <td>275.625000</td>\n",
       "    </tr>\n",
       "    <tr>\n",
       "      <th>4</th>\n",
       "      <td>1.000000</td>\n",
       "      <td>225.0</td>\n",
       "      <td>225.000000</td>\n",
       "    </tr>\n",
       "  </tbody>\n",
       "</table>\n",
       "</div>"
      ],
      "text/plain": [
       "       CDFs  Incurred    Ultimate\n",
       "0  2.436847     125.0  304.605873\n",
       "1  1.566792     195.0  305.524457\n",
       "2  1.267405     233.0  295.305380\n",
       "3  1.125000     245.0  275.625000\n",
       "4  1.000000     225.0  225.000000"
      ]
     },
     "execution_count": 124,
     "metadata": {},
     "output_type": "execute_result"
    }
   ],
   "source": [
    "# Calculate Ultimate values by multiplying CDFs with Incurred loss\n",
    "Ultimate = cum_factors * Incurred_loss\n",
    "\n",
    "# Create a DataFrame with the required columns\n",
    "df = pd.DataFrame({\n",
    "    'CDFs': cum_factors,\n",
    "    'Incurred': Incurred_loss,\n",
    "    'Ultimate': Ultimate\n",
    "})\n",
    "df"
   ]
  },
  {
   "cell_type": "markdown",
   "id": "39533466-0d8d-4707-9dd5-bb20096bf0db",
   "metadata": {},
   "source": [
    "## Calculating IBNR (Incurred But Not Reported)"
   ]
  },
  {
   "cell_type": "markdown",
   "id": "a8b2fd89-83ef-48b1-9bd1-a10922673e76",
   "metadata": {},
   "source": [
    "Calculate the IBNR (Incurred But Not Reported) values for each accident year by subtracting the incurred claims from the ultimate claims. IBNR represents the reserves that an insurer needs to set aside for claims that have occurred but have not yet been reported."
   ]
  },
  {
   "cell_type": "code",
   "execution_count": 128,
   "id": "902a5c07-617d-42cc-bde3-eef267869574",
   "metadata": {},
   "outputs": [
    {
     "data": {
      "text/html": [
       "<div>\n",
       "<style scoped>\n",
       "    .dataframe tbody tr th:only-of-type {\n",
       "        vertical-align: middle;\n",
       "    }\n",
       "\n",
       "    .dataframe tbody tr th {\n",
       "        vertical-align: top;\n",
       "    }\n",
       "\n",
       "    .dataframe thead th {\n",
       "        text-align: right;\n",
       "    }\n",
       "</style>\n",
       "<table border=\"1\" class=\"dataframe\">\n",
       "  <thead>\n",
       "    <tr style=\"text-align: right;\">\n",
       "      <th></th>\n",
       "      <th>CDFs</th>\n",
       "      <th>Incurred</th>\n",
       "      <th>Ultimate</th>\n",
       "      <th>IBNR</th>\n",
       "    </tr>\n",
       "  </thead>\n",
       "  <tbody>\n",
       "    <tr>\n",
       "      <th>0</th>\n",
       "      <td>2.436847</td>\n",
       "      <td>125.0</td>\n",
       "      <td>304.605873</td>\n",
       "      <td>179.605873</td>\n",
       "    </tr>\n",
       "    <tr>\n",
       "      <th>1</th>\n",
       "      <td>1.566792</td>\n",
       "      <td>195.0</td>\n",
       "      <td>305.524457</td>\n",
       "      <td>110.524457</td>\n",
       "    </tr>\n",
       "    <tr>\n",
       "      <th>2</th>\n",
       "      <td>1.267405</td>\n",
       "      <td>233.0</td>\n",
       "      <td>295.305380</td>\n",
       "      <td>62.305380</td>\n",
       "    </tr>\n",
       "    <tr>\n",
       "      <th>3</th>\n",
       "      <td>1.125000</td>\n",
       "      <td>245.0</td>\n",
       "      <td>275.625000</td>\n",
       "      <td>30.625000</td>\n",
       "    </tr>\n",
       "    <tr>\n",
       "      <th>4</th>\n",
       "      <td>1.000000</td>\n",
       "      <td>225.0</td>\n",
       "      <td>225.000000</td>\n",
       "      <td>0.000000</td>\n",
       "    </tr>\n",
       "  </tbody>\n",
       "</table>\n",
       "</div>"
      ],
      "text/plain": [
       "       CDFs  Incurred    Ultimate        IBNR\n",
       "0  2.436847     125.0  304.605873  179.605873\n",
       "1  1.566792     195.0  305.524457  110.524457\n",
       "2  1.267405     233.0  295.305380   62.305380\n",
       "3  1.125000     245.0  275.625000   30.625000\n",
       "4  1.000000     225.0  225.000000    0.000000"
      ]
     },
     "execution_count": 128,
     "metadata": {},
     "output_type": "execute_result"
    }
   ],
   "source": [
    "df['IBNR'] = df['Ultimate'].astype(float) - df['Incurred'].astype(float)\n",
    "df"
   ]
  },
  {
   "cell_type": "markdown",
   "id": "d3daaa84-66dc-438f-a704-1e77e2e0cb3e",
   "metadata": {},
   "source": [
    "## Calculating Total IBNR"
   ]
  },
  {
   "cell_type": "markdown",
   "id": "2969b7e7-0a72-4c0b-b1d9-f8cc3245d327",
   "metadata": {},
   "source": [
    "calculate the total IBNR (Incurred But Not Reported) by summing all the individual IBNR values for each accident year. This provides an overall estimate of the reserves that need to be set aside for claims that have occurred but have not yet been reported."
   ]
  },
  {
   "cell_type": "code",
   "execution_count": 132,
   "id": "74499b91-e53b-4eda-bd9c-5ab7e3920a4e",
   "metadata": {},
   "outputs": [
    {
     "name": "stdout",
     "output_type": "stream",
     "text": [
      "Total IBNR: 383.0607094762064\n"
     ]
    }
   ],
   "source": [
    "total_ibnr = df['IBNR'].sum()\n",
    "\n",
    "# Display the total IBNR\n",
    "print(\"Total IBNR:\", total_ibnr)"
   ]
  },
  {
   "cell_type": "markdown",
   "id": "4063960b-6240-4224-b5d0-6920be302b33",
   "metadata": {},
   "source": [
    "Thank you for taking the time to view my project!"
   ]
  }
 ],
 "metadata": {
  "kernelspec": {
   "display_name": "Python 3 (ipykernel)",
   "language": "python",
   "name": "python3"
  },
  "language_info": {
   "codemirror_mode": {
    "name": "ipython",
    "version": 3
   },
   "file_extension": ".py",
   "mimetype": "text/x-python",
   "name": "python",
   "nbconvert_exporter": "python",
   "pygments_lexer": "ipython3",
   "version": "3.12.4"
  }
 },
 "nbformat": 4,
 "nbformat_minor": 5
}
